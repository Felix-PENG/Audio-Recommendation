{
 "cells": [
  {
   "cell_type": "code",
   "execution_count": null,
   "metadata": {
    "collapsed": true
   },
   "outputs": [],
   "source": [
    "from pyspark.mllib.recommendation import ALS, Rating\n",
    "from pyspark import SparkContext\n",
    "\n",
    "sc = SparkContext(appName=\"MovieRecommender\")\n",
    "artistData = sc.textFile(\"s3://aws-logs-135040824471-us-west-2/elasticmapreduce/audio-data/artist_data.txt\")\n",
    "artistAlias = sc.textFile(\"s3://aws-logs-135040824471-us-west-2/elasticmapreduce/audio-data/artist_alias.txt\")\n",
    "userArtistData = sc.textFile(\"s3://aws-logs-135040824471-us-west-2/elasticmapreduce/audio-data/user_artist_data.txt\")\n",
    "\n",
    "artist_data = artistData.collect()\n",
    "artist_alias = artistAlias.collect()\n",
    "user_artist_data = userArtistData.collect()\n",
    "\n",
    "#compute the mapping between inaccurate artist id and canonical artist id\n",
    "artist_id_dict = {}\n",
    "for line in artist_alias:\n",
    "    artist = line.split(\"\\t\")\n",
    "    artist_id_dict[artist[0]] = artist[1]\n",
    "\n",
    "#compute the mapping between artist id and artist name\n",
    "artist_name_dict = {}\n",
    "for line in artist_data:\n",
    "    artist = line.split(\"\\t\")\n",
    "    if len(artist) >= 2:\n",
    "        artist_name_dict[artist[0]] = artist[1]\n",
    "\n",
    "#transform artist id in userArtistData into canonical ones\n",
    "def correctArtistId(line):\n",
    "    line = line.split(\" \")\n",
    "    \n",
    "    if line[1] in artist_id_dict:\n",
    "        return Rating(int(line[0]),int(artist_id_dict[line[1]]),int(line[2]))\n",
    "    else:\n",
    "        return Rating(int(line[0]),int(line[1]),int(line[2]))\n",
    "          \n",
    "userArtistData = userArtistData.map(correctArtistId)\n",
    "\n",
    "model = ALS.trainImplicit(userArtistData, rank = 10, iterations = 5, lambda_ = 0.01, alpha = 1.0)\n",
    "ratings = model.recommendProducts(2093760, 10)\n",
    "\n",
    "print \"Top 10 recommendations for user 2093760:\"\n",
    "for i in range(0,10):\n",
    "    print \"Artist \" + str(i+1) + \" : \" + str(artist_name_dict[str(ratings[i].product)])"
   ]
  }
 ],
 "metadata": {
  "anaconda-cloud": {},
  "kernelspec": {
   "display_name": "Python [Root]",
   "language": "python",
   "name": "Python [Root]"
  },
  "language_info": {
   "codemirror_mode": {
    "name": "ipython",
    "version": 2
   },
   "file_extension": ".py",
   "mimetype": "text/x-python",
   "name": "python",
   "nbconvert_exporter": "python",
   "pygments_lexer": "ipython2",
   "version": "2.7.12"
  }
 },
 "nbformat": 4,
 "nbformat_minor": 0
}
